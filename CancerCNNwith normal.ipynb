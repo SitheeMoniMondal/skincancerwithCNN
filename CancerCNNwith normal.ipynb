{
 "cells": [
  {
   "cell_type": "code",
   "execution_count": 1,
   "id": "cb0c27ce-8450-47a1-9754-7c1c01bceb20",
   "metadata": {},
   "outputs": [
    {
     "data": {
      "text/plain": [
       "'2.5.0'"
      ]
     },
     "execution_count": 1,
     "metadata": {},
     "output_type": "execute_result"
    }
   ],
   "source": [
    "import tensorflow as tf\n",
    "tf.version.VERSION"
   ]
  },
  {
   "cell_type": "code",
   "execution_count": 2,
   "id": "8775d4a2-3c20-4cb9-90a8-e89cfcfaeeba",
   "metadata": {},
   "outputs": [
    {
     "name": "stdout",
     "output_type": "stream",
     "text": [
      "2.5.0\n"
     ]
    }
   ],
   "source": [
    "import keras\n",
    "print(keras.__version__)"
   ]
  },
  {
   "cell_type": "code",
   "execution_count": 3,
   "id": "9d9819cc-72ac-4078-b5f6-78315934ea29",
   "metadata": {},
   "outputs": [],
   "source": [
    "from tensorflow import keras\n",
    "from tensorflow.keras import layers"
   ]
  },
  {
   "cell_type": "code",
   "execution_count": 4,
   "id": "4cb8bb90-72d0-4492-86b2-4ac684a54d58",
   "metadata": {},
   "outputs": [],
   "source": [
    "from keras.models import Sequential\n",
    "from keras.layers.core import Dense, Dropout, Activation, Flatten\n",
    "from keras.layers.convolutional import Convolution2D, MaxPooling2D\n",
    "from tensorflow.keras.optimizers import SGD,RMSprop,Adam\n",
    "from keras.utils import np_utils"
   ]
  },
  {
   "cell_type": "code",
   "execution_count": 5,
   "id": "0c0c91d5-6113-44ad-ac2e-4ace7ca87d5c",
   "metadata": {},
   "outputs": [],
   "source": [
    "from sklearn.utils import shuffle\n",
    "#from sklearn.cross_validation import train_test_split\n",
    "from sklearn.model_selection import train_test_split\n",
    "from keras import backend as K\n",
    "#K.set_image_dim_ordering('th')"
   ]
  },
  {
   "cell_type": "code",
   "execution_count": 6,
   "id": "6a314875-1d0a-41a5-9065-9a75b3bc3b4b",
   "metadata": {},
   "outputs": [
    {
     "name": "stderr",
     "output_type": "stream",
     "text": [
      "WARNING (theano.configdefaults): g++ not available, if using conda: `conda install m2w64-toolchain`\n",
      "C:\\Users\\Legend\\anaconda3\\lib\\site-packages\\theano\\configdefaults.py:560: UserWarning: DeprecationWarning: there is no c++ compiler.This is deprecated and with Theano 0.11 a c++ compiler will be mandatory\n",
      "  warnings.warn(\"DeprecationWarning: there is no c++ compiler.\"\n",
      "WARNING (theano.configdefaults): g++ not detected ! Theano will be unable to execute optimized C-implementations (for both CPU and GPU) and will default to Python implementations. Performance will be severely degraded. To remove this warning, set Theano flags cxx to an empty string.\n",
      "WARNING (theano.tensor.blas): Using NumPy C-API based implementation for BLAS functions.\n"
     ]
    }
   ],
   "source": [
    "import numpy as np\n",
    "import matplotlib.pyplot as plt\n",
    "import matplotlib\n",
    "import os\n",
    "import theano\n",
    "from PIL import Image\n",
    "from numpy import *"
   ]
  },
  {
   "cell_type": "code",
   "execution_count": 7,
   "id": "5c3451f3-c19b-464f-9361-ae4569f47c6c",
   "metadata": {},
   "outputs": [],
   "source": [
    "import os,cv2\n",
    "import numpy as np\n",
    "import matplotlib.pyplot as plt"
   ]
  },
  {
   "cell_type": "code",
   "execution_count": 8,
   "id": "2f75f90a-f693-456a-8a4e-1c5266b399fa",
   "metadata": {},
   "outputs": [],
   "source": [
    "PATH = os.getcwd()\n",
    "# Define data path\n",
    "data_path = PATH + '/data'\n",
    "data_dir_list = os.listdir(data_path)"
   ]
  },
  {
   "cell_type": "code",
   "execution_count": 9,
   "id": "f4d73c72-2fe0-467f-b94e-a0393f499935",
   "metadata": {},
   "outputs": [],
   "source": [
    "img_rows=128\n",
    "img_cols=128\n",
    "num_channel=1\n",
    "num_epoch=100"
   ]
  },
  {
   "cell_type": "code",
   "execution_count": 10,
   "id": "b5297043-93f0-44f4-ac3d-dc36cc87a75c",
   "metadata": {},
   "outputs": [],
   "source": [
    "# Define the number of classes\n",
    "num_classes = 7\n",
    "\n",
    "img_data_list=[]"
   ]
  },
  {
   "cell_type": "code",
   "execution_count": 11,
   "id": "56c357b3-a087-4058-86de-fabbd8d8a495",
   "metadata": {},
   "outputs": [
    {
     "name": "stdout",
     "output_type": "stream",
     "text": [
      "Loaded the images of dataset-class1\n",
      "\n",
      "Loaded the images of dataset-class2\n",
      "\n",
      "Loaded the images of dataset-class3\n",
      "\n",
      "Loaded the images of dataset-class4\n",
      "\n",
      "Loaded the images of dataset-class5\n",
      "\n",
      "Loaded the images of dataset-class6\n",
      "\n",
      "Loaded the images of dataset-class7\n",
      "\n"
     ]
    }
   ],
   "source": [
    "for dataset in data_dir_list:\n",
    "\timg_list=os.listdir(data_path+'/'+ dataset)\n",
    "\tprint ('Loaded the images of dataset-'+'{}\\n'.format(dataset))\n",
    "\tfor img in img_list:\n",
    "\t\tinput_img=cv2.imread(data_path + '/'+ dataset + '/'+ img )\n",
    "\t\tinput_img=cv2.cvtColor(input_img, cv2.COLOR_BGR2GRAY)\n",
    "\t\tinput_img_resize=cv2.resize(input_img,(128,128))\n",
    "\t\timg_data_list.append(input_img_resize)"
   ]
  },
  {
   "cell_type": "code",
   "execution_count": 12,
   "id": "ebb2f52e-901e-46e5-9fa8-9dbd35c87af4",
   "metadata": {},
   "outputs": [
    {
     "name": "stdout",
     "output_type": "stream",
     "text": [
      "(7538, 128, 128)\n"
     ]
    }
   ],
   "source": [
    "img_data = np.array(img_data_list)\n",
    "img_data = img_data.astype('float32')\n",
    "img_data /= 255\n",
    "print (img_data.shape)"
   ]
  },
  {
   "cell_type": "code",
   "execution_count": 13,
   "id": "70a2ad90-054f-47a1-9493-497036fb0749",
   "metadata": {},
   "outputs": [
    {
     "name": "stdout",
     "output_type": "stream",
     "text": [
      "(7538, 1, 128, 128)\n"
     ]
    }
   ],
   "source": [
    "if num_channel==1:\n",
    "\tif K.image_data_format()=='th':\n",
    "\t\timg_data= np.expand_dims(img_data, axis=1) \n",
    "\t\tprint (img_data.shape)\n",
    "\telse:\n",
    "\t\timg_data= np.expand_dims(img_data, axis=1) \n",
    "\t\tprint (img_data.shape)\n",
    "\t\t\n",
    "else:\n",
    "\tif K.image_data_format()=='th':\n",
    "\t\timg_data=np.rollaxis(img_data,3,1)\n",
    "\t\tprint (img_data.shape)\n",
    "\t\t"
   ]
  },
  {
   "cell_type": "code",
   "execution_count": 14,
   "id": "9d2c20ae-841e-42bc-910c-14beaf7cba6a",
   "metadata": {},
   "outputs": [],
   "source": [
    "# Assigning Labels\n",
    "\n",
    "# Define the number of classes\n",
    "num_classes = 7"
   ]
  },
  {
   "cell_type": "code",
   "execution_count": 15,
   "id": "ecd6a2eb-bf30-4a7f-8234-7749ed623b77",
   "metadata": {},
   "outputs": [],
   "source": [
    "num_of_samples = img_data.shape[0]\n",
    "labels = np.ones((num_of_samples,),dtype='int64')"
   ]
  },
  {
   "cell_type": "code",
   "execution_count": 16,
   "id": "0378036d-c030-4764-a023-0f7d4a61c1da",
   "metadata": {},
   "outputs": [
    {
     "name": "stdout",
     "output_type": "stream",
     "text": [
      "[1 1 1 ... 1 1 1]\n"
     ]
    }
   ],
   "source": [
    "print(labels)"
   ]
  },
  {
   "cell_type": "code",
   "execution_count": 17,
   "id": "5f7a2558-c708-49a2-ab85-af66b412f069",
   "metadata": {},
   "outputs": [],
   "source": [
    "labels[1:852]=0\n",
    "labels[853:2115]=1   \n",
    "labels[2116:3495]=2\n",
    "labels[3496:4314]=3\n",
    "labels[4315:5603]=4\n",
    "labels[5604:6863]=5\n",
    "labels[6864:7538]=6"
   ]
  },
  {
   "cell_type": "code",
   "execution_count": 18,
   "id": "27ff3b37-fc33-4af0-a823-f482406a37b1",
   "metadata": {},
   "outputs": [],
   "source": [
    "names = ['class1','class2','class3','class4','class5','class6','class7']"
   ]
  },
  {
   "cell_type": "code",
   "execution_count": 19,
   "id": "dca272ca-8a2c-4d97-9b7c-909880c8ff77",
   "metadata": {},
   "outputs": [],
   "source": [
    "# convert class labels to on-hot encoding\n",
    "Y = np_utils.to_categorical(labels, num_classes)"
   ]
  },
  {
   "cell_type": "code",
   "execution_count": 20,
   "id": "55246e53-653e-4c2d-a607-fe043b6fb350",
   "metadata": {},
   "outputs": [],
   "source": [
    "#Shuffle the dataset\n",
    "x,y = shuffle(img_data,Y, random_state=2)"
   ]
  },
  {
   "cell_type": "code",
   "execution_count": 21,
   "id": "480a3e02-069c-4e0f-bfb1-55d0d8fcd19a",
   "metadata": {},
   "outputs": [],
   "source": [
    "# Split the dataset\n",
    "X_train, X_test, y_train, y_test = train_test_split(x, y, test_size=0.2, random_state=7)"
   ]
  },
  {
   "cell_type": "code",
   "execution_count": 22,
   "id": "87a92523-ca67-4dbe-96b0-1a3f2409d2b4",
   "metadata": {},
   "outputs": [],
   "source": [
    "# Defining the model\n",
    "input_shape=img_data[0].shape"
   ]
  },
  {
   "cell_type": "code",
   "execution_count": 23,
   "id": "30adf83b-b360-431d-b396-51f650733053",
   "metadata": {},
   "outputs": [
    {
     "name": "stdout",
     "output_type": "stream",
     "text": [
      "(1, 128, 128)\n"
     ]
    }
   ],
   "source": [
    "print(input_shape)"
   ]
  },
  {
   "cell_type": "code",
   "execution_count": 24,
   "id": "9dca9229-4b46-4e4d-b763-af60de7bea1b",
   "metadata": {},
   "outputs": [],
   "source": [
    "# number of convolutional filters to use\n",
    "nb_filters = 32"
   ]
  },
  {
   "cell_type": "code",
   "execution_count": 25,
   "id": "8c85c68d-61a2-4881-9e18-aa8608c66b4b",
   "metadata": {},
   "outputs": [],
   "source": [
    "# size of pooling area for max pooling\n",
    "nb_pool = 2"
   ]
  },
  {
   "cell_type": "code",
   "execution_count": 26,
   "id": "af348163-41da-4fe1-8cc6-e704c8cb23fc",
   "metadata": {},
   "outputs": [],
   "source": [
    "# number of output classes\n",
    "nb_classes = 7"
   ]
  },
  {
   "cell_type": "code",
   "execution_count": 27,
   "id": "e922881c-12fd-4028-94cf-80ab28d0333b",
   "metadata": {},
   "outputs": [],
   "source": [
    "#batch_size to train\n",
    "batch_size = 20"
   ]
  },
  {
   "cell_type": "code",
   "execution_count": 28,
   "id": "6307c31d-ddf5-48f7-bda9-9f0d20725441",
   "metadata": {},
   "outputs": [],
   "source": [
    "# convolution kernel size\n",
    "nb_conv = 3"
   ]
  },
  {
   "cell_type": "code",
   "execution_count": 29,
   "id": "e87eaa67-c34e-4d2e-b36e-9540fd39231f",
   "metadata": {},
   "outputs": [],
   "source": [
    "# Defining the model\n",
    "input_shape=img_data[0].shape"
   ]
  },
  {
   "cell_type": "code",
   "execution_count": 30,
   "id": "ee328dc5-b8c9-4be3-b365-01c9368df7ab",
   "metadata": {},
   "outputs": [],
   "source": [
    "model = Sequential()\n",
    "model.add(Convolution2D(32, (3,3), activation=\"relu\", input_shape=input_shape, data_format='channels_first'))\n",
    "model.add(Convolution2D(nb_filters, nb_conv, nb_conv,\n",
    "                        padding='valid',\n",
    "                        input_shape=(1,img_rows, img_cols)))\n",
    "###By default, Convolution2D (https://keras.io/layers/convolutional/) expects the input to be in the format (samples, rows, cols, channels), which is \"channels-last\". \n",
    "convout1 = Activation('relu')\n",
    "model.add(convout1)\n",
    "model.add(Convolution2D(nb_filters, nb_conv, nb_conv))\n",
    "convout2 = Activation('relu')\n",
    "model.add(convout2)\n",
    "model.add(MaxPooling2D(pool_size=(nb_pool, nb_pool)))\n",
    "model.add(Dropout(0.25))\n",
    "\n",
    "model.add(Flatten())\n",
    "model.add(Dense(128))\n",
    "model.add(Activation('relu'))\n",
    "model.add(Dropout(0.25))\n",
    "model.add(Dense(nb_classes))\n",
    "model.add(Activation('softmax'))\n",
    "model.compile(loss='categorical_crossentropy', optimizer='adadelta',metrics=['accuracy'])"
   ]
  },
  {
   "cell_type": "code",
   "execution_count": 31,
   "id": "69e9a473-a995-4fde-bb1c-e069c6230fa2",
   "metadata": {},
   "outputs": [],
   "source": [
    "model.compile(loss='categorical_crossentropy', optimizer='rmsprop',metrics=[\"accuracy\"])"
   ]
  },
  {
   "cell_type": "code",
   "execution_count": 32,
   "id": "845738c1-ff8f-41e0-b327-626ba748fb70",
   "metadata": {},
   "outputs": [],
   "source": [
    "# Viewing model_configuration"
   ]
  },
  {
   "cell_type": "code",
   "execution_count": 33,
   "id": "5060880a-1fae-432c-a6f9-342e614ab8ee",
   "metadata": {},
   "outputs": [
    {
     "name": "stdout",
     "output_type": "stream",
     "text": [
      "Model: \"sequential\"\n",
      "_________________________________________________________________\n",
      "Layer (type)                 Output Shape              Param #   \n",
      "=================================================================\n",
      "conv2d (Conv2D)              (None, 32, 126, 126)      320       \n",
      "_________________________________________________________________\n",
      "conv2d_1 (Conv2D)            (None, 10, 42, 32)        36320     \n",
      "_________________________________________________________________\n",
      "activation (Activation)      (None, 10, 42, 32)        0         \n",
      "_________________________________________________________________\n",
      "conv2d_2 (Conv2D)            (None, 3, 14, 32)         9248      \n",
      "_________________________________________________________________\n",
      "activation_1 (Activation)    (None, 3, 14, 32)         0         \n",
      "_________________________________________________________________\n",
      "max_pooling2d (MaxPooling2D) (None, 1, 7, 32)          0         \n",
      "_________________________________________________________________\n",
      "dropout (Dropout)            (None, 1, 7, 32)          0         \n",
      "_________________________________________________________________\n",
      "flatten (Flatten)            (None, 224)               0         \n",
      "_________________________________________________________________\n",
      "dense (Dense)                (None, 128)               28800     \n",
      "_________________________________________________________________\n",
      "activation_2 (Activation)    (None, 128)               0         \n",
      "_________________________________________________________________\n",
      "dropout_1 (Dropout)          (None, 128)               0         \n",
      "_________________________________________________________________\n",
      "dense_1 (Dense)              (None, 7)                 903       \n",
      "_________________________________________________________________\n",
      "activation_3 (Activation)    (None, 7)                 0         \n",
      "=================================================================\n",
      "Total params: 75,591\n",
      "Trainable params: 75,591\n",
      "Non-trainable params: 0\n",
      "_________________________________________________________________\n"
     ]
    }
   ],
   "source": [
    "model.summary()"
   ]
  },
  {
   "cell_type": "code",
   "execution_count": 34,
   "id": "c0a32b1c-d786-416a-ac2f-c156dd0a287f",
   "metadata": {},
   "outputs": [
    {
     "data": {
      "text/plain": [
       "{'name': 'sequential',\n",
       " 'layers': [{'class_name': 'InputLayer',\n",
       "   'config': {'batch_input_shape': (None, 1, 128, 128),\n",
       "    'dtype': 'float32',\n",
       "    'sparse': False,\n",
       "    'ragged': False,\n",
       "    'name': 'conv2d_input'}},\n",
       "  {'class_name': 'Conv2D',\n",
       "   'config': {'name': 'conv2d',\n",
       "    'trainable': True,\n",
       "    'batch_input_shape': (None, 1, 128, 128),\n",
       "    'dtype': 'float32',\n",
       "    'filters': 32,\n",
       "    'kernel_size': (3, 3),\n",
       "    'strides': (1, 1),\n",
       "    'padding': 'valid',\n",
       "    'data_format': 'channels_first',\n",
       "    'dilation_rate': (1, 1),\n",
       "    'groups': 1,\n",
       "    'activation': 'relu',\n",
       "    'use_bias': True,\n",
       "    'kernel_initializer': {'class_name': 'GlorotUniform',\n",
       "     'config': {'seed': None}},\n",
       "    'bias_initializer': {'class_name': 'Zeros', 'config': {}},\n",
       "    'kernel_regularizer': None,\n",
       "    'bias_regularizer': None,\n",
       "    'activity_regularizer': None,\n",
       "    'kernel_constraint': None,\n",
       "    'bias_constraint': None}},\n",
       "  {'class_name': 'Conv2D',\n",
       "   'config': {'name': 'conv2d_1',\n",
       "    'trainable': True,\n",
       "    'batch_input_shape': (None, 1, 128, 128),\n",
       "    'dtype': 'float32',\n",
       "    'filters': 32,\n",
       "    'kernel_size': (3, 3),\n",
       "    'strides': (3, 3),\n",
       "    'padding': 'valid',\n",
       "    'data_format': 'channels_last',\n",
       "    'dilation_rate': (1, 1),\n",
       "    'groups': 1,\n",
       "    'activation': 'linear',\n",
       "    'use_bias': True,\n",
       "    'kernel_initializer': {'class_name': 'GlorotUniform',\n",
       "     'config': {'seed': None}},\n",
       "    'bias_initializer': {'class_name': 'Zeros', 'config': {}},\n",
       "    'kernel_regularizer': None,\n",
       "    'bias_regularizer': None,\n",
       "    'activity_regularizer': None,\n",
       "    'kernel_constraint': None,\n",
       "    'bias_constraint': None}},\n",
       "  {'class_name': 'Activation',\n",
       "   'config': {'name': 'activation',\n",
       "    'trainable': True,\n",
       "    'dtype': 'float32',\n",
       "    'activation': 'relu'}},\n",
       "  {'class_name': 'Conv2D',\n",
       "   'config': {'name': 'conv2d_2',\n",
       "    'trainable': True,\n",
       "    'dtype': 'float32',\n",
       "    'filters': 32,\n",
       "    'kernel_size': (3, 3),\n",
       "    'strides': (3, 3),\n",
       "    'padding': 'valid',\n",
       "    'data_format': 'channels_last',\n",
       "    'dilation_rate': (1, 1),\n",
       "    'groups': 1,\n",
       "    'activation': 'linear',\n",
       "    'use_bias': True,\n",
       "    'kernel_initializer': {'class_name': 'GlorotUniform',\n",
       "     'config': {'seed': None}},\n",
       "    'bias_initializer': {'class_name': 'Zeros', 'config': {}},\n",
       "    'kernel_regularizer': None,\n",
       "    'bias_regularizer': None,\n",
       "    'activity_regularizer': None,\n",
       "    'kernel_constraint': None,\n",
       "    'bias_constraint': None}},\n",
       "  {'class_name': 'Activation',\n",
       "   'config': {'name': 'activation_1',\n",
       "    'trainable': True,\n",
       "    'dtype': 'float32',\n",
       "    'activation': 'relu'}},\n",
       "  {'class_name': 'MaxPooling2D',\n",
       "   'config': {'name': 'max_pooling2d',\n",
       "    'trainable': True,\n",
       "    'dtype': 'float32',\n",
       "    'pool_size': (2, 2),\n",
       "    'padding': 'valid',\n",
       "    'strides': (2, 2),\n",
       "    'data_format': 'channels_last'}},\n",
       "  {'class_name': 'Dropout',\n",
       "   'config': {'name': 'dropout',\n",
       "    'trainable': True,\n",
       "    'dtype': 'float32',\n",
       "    'rate': 0.25,\n",
       "    'noise_shape': None,\n",
       "    'seed': None}},\n",
       "  {'class_name': 'Flatten',\n",
       "   'config': {'name': 'flatten',\n",
       "    'trainable': True,\n",
       "    'dtype': 'float32',\n",
       "    'data_format': 'channels_last'}},\n",
       "  {'class_name': 'Dense',\n",
       "   'config': {'name': 'dense',\n",
       "    'trainable': True,\n",
       "    'dtype': 'float32',\n",
       "    'units': 128,\n",
       "    'activation': 'linear',\n",
       "    'use_bias': True,\n",
       "    'kernel_initializer': {'class_name': 'GlorotUniform',\n",
       "     'config': {'seed': None}},\n",
       "    'bias_initializer': {'class_name': 'Zeros', 'config': {}},\n",
       "    'kernel_regularizer': None,\n",
       "    'bias_regularizer': None,\n",
       "    'activity_regularizer': None,\n",
       "    'kernel_constraint': None,\n",
       "    'bias_constraint': None}},\n",
       "  {'class_name': 'Activation',\n",
       "   'config': {'name': 'activation_2',\n",
       "    'trainable': True,\n",
       "    'dtype': 'float32',\n",
       "    'activation': 'relu'}},\n",
       "  {'class_name': 'Dropout',\n",
       "   'config': {'name': 'dropout_1',\n",
       "    'trainable': True,\n",
       "    'dtype': 'float32',\n",
       "    'rate': 0.25,\n",
       "    'noise_shape': None,\n",
       "    'seed': None}},\n",
       "  {'class_name': 'Dense',\n",
       "   'config': {'name': 'dense_1',\n",
       "    'trainable': True,\n",
       "    'dtype': 'float32',\n",
       "    'units': 7,\n",
       "    'activation': 'linear',\n",
       "    'use_bias': True,\n",
       "    'kernel_initializer': {'class_name': 'GlorotUniform',\n",
       "     'config': {'seed': None}},\n",
       "    'bias_initializer': {'class_name': 'Zeros', 'config': {}},\n",
       "    'kernel_regularizer': None,\n",
       "    'bias_regularizer': None,\n",
       "    'activity_regularizer': None,\n",
       "    'kernel_constraint': None,\n",
       "    'bias_constraint': None}},\n",
       "  {'class_name': 'Activation',\n",
       "   'config': {'name': 'activation_3',\n",
       "    'trainable': True,\n",
       "    'dtype': 'float32',\n",
       "    'activation': 'softmax'}}]}"
      ]
     },
     "execution_count": 34,
     "metadata": {},
     "output_type": "execute_result"
    }
   ],
   "source": [
    "model.get_config()"
   ]
  },
  {
   "cell_type": "code",
   "execution_count": 35,
   "id": "762d58f5-8a23-47bc-b11b-adb5503bc4a5",
   "metadata": {},
   "outputs": [
    {
     "data": {
      "text/plain": [
       "{'name': 'conv2d',\n",
       " 'trainable': True,\n",
       " 'batch_input_shape': (None, 1, 128, 128),\n",
       " 'dtype': 'float32',\n",
       " 'filters': 32,\n",
       " 'kernel_size': (3, 3),\n",
       " 'strides': (1, 1),\n",
       " 'padding': 'valid',\n",
       " 'data_format': 'channels_first',\n",
       " 'dilation_rate': (1, 1),\n",
       " 'groups': 1,\n",
       " 'activation': 'relu',\n",
       " 'use_bias': True,\n",
       " 'kernel_initializer': {'class_name': 'GlorotUniform',\n",
       "  'config': {'seed': None}},\n",
       " 'bias_initializer': {'class_name': 'Zeros', 'config': {}},\n",
       " 'kernel_regularizer': None,\n",
       " 'bias_regularizer': None,\n",
       " 'activity_regularizer': None,\n",
       " 'kernel_constraint': None,\n",
       " 'bias_constraint': None}"
      ]
     },
     "execution_count": 35,
     "metadata": {},
     "output_type": "execute_result"
    }
   ],
   "source": [
    "model.layers[0].get_config()"
   ]
  },
  {
   "cell_type": "code",
   "execution_count": 36,
   "id": "49ccd4c4-ce1d-4f3c-85f6-1c002bc68c41",
   "metadata": {},
   "outputs": [
    {
     "data": {
      "text/plain": [
       "(None, 1, 128, 128)"
      ]
     },
     "execution_count": 36,
     "metadata": {},
     "output_type": "execute_result"
    }
   ],
   "source": [
    "model.layers[0].input_shape"
   ]
  },
  {
   "cell_type": "code",
   "execution_count": 37,
   "id": "fd1546ec-7427-429e-bc73-c7426a49c6ef",
   "metadata": {},
   "outputs": [
    {
     "data": {
      "text/plain": [
       "[array([[[[-0.13366303, -0.05866922, -0.06600878, -0.09736328,\n",
       "            0.13754912, -0.00389531,  0.07495874, -0.00334458,\n",
       "            0.12025   , -0.06087691,  0.04375069,  0.10010175,\n",
       "            0.12914266, -0.0278963 ,  0.01536432,  0.07269597,\n",
       "            0.09489083,  0.09075518,  0.10810716,  0.09927768,\n",
       "            0.00353821, -0.09829478,  0.03868616, -0.1068779 ,\n",
       "            0.02892746,  0.1340567 , -0.00724423, -0.11111151,\n",
       "            0.12074329,  0.11458416,  0.09940554,  0.05159348]],\n",
       " \n",
       "         [[ 0.09533438,  0.0041306 ,  0.12444629, -0.12789279,\n",
       "           -0.07845642, -0.045876  , -0.03860328,  0.00787602,\n",
       "           -0.13915637, -0.01020436,  0.03258787, -0.05343671,\n",
       "            0.10353139,  0.06917146,  0.10101308,  0.08513489,\n",
       "            0.01171122,  0.09468344, -0.05462734, -0.12076426,\n",
       "           -0.04161664,  0.11828347,  0.0597702 ,  0.01613139,\n",
       "           -0.00551029,  0.02799979, -0.07182755, -0.03254703,\n",
       "           -0.07403547, -0.10381059, -0.06660723, -0.08564761]],\n",
       " \n",
       "         [[-0.11608133,  0.02587478,  0.09689265, -0.07291963,\n",
       "           -0.02497812,  0.0697531 , -0.11970019,  0.10352711,\n",
       "           -0.05224141, -0.12938865,  0.00044969,  0.07517144,\n",
       "            0.00277101,  0.11809368,  0.1026876 , -0.10981528,\n",
       "           -0.03036638, -0.04690035,  0.10154684,  0.07625252,\n",
       "           -0.01685706,  0.09182703,  0.12383433, -0.12204516,\n",
       "            0.05517656, -0.0203772 ,  0.1312251 ,  0.13601376,\n",
       "            0.02637574, -0.04256494,  0.01548353, -0.00213124]]],\n",
       " \n",
       " \n",
       "        [[[ 0.12162884,  0.13331015, -0.09343625,  0.09866656,\n",
       "           -0.04542964,  0.04854921, -0.03942996, -0.02680963,\n",
       "            0.0545354 ,  0.00070411, -0.12623638,  0.00651073,\n",
       "            0.02193287, -0.0176833 ,  0.08721107, -0.11869333,\n",
       "           -0.05842829,  0.00036663, -0.10282579,  0.01584095,\n",
       "           -0.00635262, -0.04900303,  0.02602161,  0.07972322,\n",
       "           -0.111296  ,  0.01860754,  0.05432273,  0.04038219,\n",
       "            0.0763496 , -0.12684453, -0.0759983 , -0.12691762]],\n",
       " \n",
       "         [[-0.04139712,  0.03602679,  0.03655337,  0.11625277,\n",
       "            0.1292422 , -0.00288917, -0.09081076,  0.02920319,\n",
       "           -0.09496992,  0.07290038,  0.01195891, -0.10435726,\n",
       "            0.06085049, -0.04595849,  0.10496777,  0.0288423 ,\n",
       "           -0.10603181, -0.12346382,  0.06011838,  0.00336261,\n",
       "           -0.10867742,  0.03656305,  0.02253716, -0.06792782,\n",
       "            0.0420955 , -0.06102575, -0.03676248, -0.04542138,\n",
       "           -0.09575018, -0.14199919,  0.07383958,  0.0633304 ]],\n",
       " \n",
       "         [[ 0.00645147, -0.02466185,  0.10532427, -0.10247363,\n",
       "            0.10242462, -0.05069441, -0.09814025,  0.0582169 ,\n",
       "           -0.12050224,  0.05029777, -0.08694878, -0.03563505,\n",
       "            0.0229581 ,  0.1090007 , -0.00233512,  0.0355828 ,\n",
       "           -0.12455001,  0.09843992,  0.05216689, -0.10671768,\n",
       "           -0.1304769 , -0.13948077, -0.13529176, -0.09651725,\n",
       "            0.06671368, -0.13565572, -0.10457434, -0.12524375,\n",
       "            0.00986379,  0.11232926,  0.08763047,  0.11316435]]],\n",
       " \n",
       " \n",
       "        [[[-0.05736426, -0.05213198, -0.1415962 , -0.0350468 ,\n",
       "           -0.11111561,  0.10665672,  0.07557006, -0.05775881,\n",
       "           -0.07473386, -0.0516702 , -0.06008527,  0.0293954 ,\n",
       "            0.05934423, -0.09210472, -0.08781084, -0.12626763,\n",
       "            0.13266437, -0.05190365,  0.0994577 ,  0.07991873,\n",
       "           -0.05746985,  0.09106766,  0.05524153,  0.11777706,\n",
       "           -0.096989  , -0.10873859, -0.11390634,  0.06325635,\n",
       "           -0.09643738,  0.09426337,  0.13999225,  0.01227254]],\n",
       " \n",
       "         [[-0.11727373, -0.05531282, -0.02203399,  0.02679458,\n",
       "           -0.10588686,  0.12854211, -0.13975672, -0.1223958 ,\n",
       "            0.13498445, -0.08116987,  0.08769733, -0.1379532 ,\n",
       "            0.06752497, -0.04487836,  0.13295425, -0.11612301,\n",
       "            0.13329734,  0.09839508,  0.04408744,  0.03556633,\n",
       "           -0.06355059, -0.02784926,  0.12439941, -0.04478033,\n",
       "            0.12750168,  0.06985937, -0.05532424,  0.06096371,\n",
       "           -0.12334454, -0.01392844,  0.00359544, -0.1199736 ]],\n",
       " \n",
       "         [[ 0.12727554, -0.0940038 ,  0.04351179,  0.01214442,\n",
       "           -0.07092363,  0.09796363, -0.02065932,  0.12108718,\n",
       "            0.04390702, -0.05897604,  0.13254811,  0.04359962,\n",
       "           -0.1213358 ,  0.02889058,  0.13530563,  0.08299278,\n",
       "            0.07847048,  0.10564204,  0.05689336, -0.05642124,\n",
       "           -0.06103812, -0.10139391,  0.1124071 , -0.11108613,\n",
       "           -0.10336978,  0.03969803,  0.09381619,  0.09032346,\n",
       "           -0.06158245,  0.08566423, -0.07006588,  0.06206535]]]],\n",
       "       dtype=float32),\n",
       " array([0., 0., 0., 0., 0., 0., 0., 0., 0., 0., 0., 0., 0., 0., 0., 0., 0.,\n",
       "        0., 0., 0., 0., 0., 0., 0., 0., 0., 0., 0., 0., 0., 0., 0.],\n",
       "       dtype=float32)]"
      ]
     },
     "execution_count": 37,
     "metadata": {},
     "output_type": "execute_result"
    }
   ],
   "source": [
    "model.layers[0].get_weights()"
   ]
  },
  {
   "cell_type": "code",
   "execution_count": 38,
   "id": "774884d0-5ff6-4690-8c66-88683098de51",
   "metadata": {},
   "outputs": [
    {
     "data": {
      "text/plain": [
       "(3, 3, 1, 32)"
      ]
     },
     "execution_count": 38,
     "metadata": {},
     "output_type": "execute_result"
    }
   ],
   "source": [
    "np.shape(model.layers[0].get_weights()[0])"
   ]
  },
  {
   "cell_type": "code",
   "execution_count": 39,
   "id": "1e33f8eb-cbc2-4180-91ad-574777eb09e0",
   "metadata": {},
   "outputs": [],
   "source": [
    "#model.compile(optimizer='rmsprop', loss='sparse_categorical_crossentropy', metrics=['accuracy'])"
   ]
  },
  {
   "cell_type": "code",
   "execution_count": 40,
   "id": "8cc32522-3cec-4a43-aad7-51f8fd63da43",
   "metadata": {},
   "outputs": [
    {
     "data": {
      "text/plain": [
       "True"
      ]
     },
     "execution_count": 40,
     "metadata": {},
     "output_type": "execute_result"
    }
   ],
   "source": [
    "model.layers[0].trainable"
   ]
  },
  {
   "cell_type": "code",
   "execution_count": 41,
   "id": "66d824da-9640-4966-89e9-2ac1917c9dfe",
   "metadata": {},
   "outputs": [
    {
     "name": "stdout",
     "output_type": "stream",
     "text": [
      "Epoch 1/100\n",
      "377/377 [==============================] - 29s 9ms/step - loss: 1.8891 - accuracy: 0.2090 - val_loss: 1.6388 - val_accuracy: 0.3302\n",
      "Epoch 2/100\n",
      "377/377 [==============================] - 3s 8ms/step - loss: 1.6250 - accuracy: 0.3491 - val_loss: 1.5696 - val_accuracy: 0.3667\n",
      "Epoch 3/100\n",
      "377/377 [==============================] - 3s 8ms/step - loss: 1.4966 - accuracy: 0.4092 - val_loss: 1.3821 - val_accuracy: 0.4503\n",
      "Epoch 4/100\n",
      "377/377 [==============================] - 3s 8ms/step - loss: 1.4318 - accuracy: 0.4302 - val_loss: 1.3359 - val_accuracy: 0.4682\n",
      "Epoch 5/100\n",
      "377/377 [==============================] - 3s 8ms/step - loss: 1.3764 - accuracy: 0.4587 - val_loss: 1.2804 - val_accuracy: 0.5298\n",
      "Epoch 6/100\n",
      "377/377 [==============================] - 3s 8ms/step - loss: 1.3142 - accuracy: 0.4844 - val_loss: 1.3073 - val_accuracy: 0.4781\n",
      "Epoch 7/100\n",
      "377/377 [==============================] - 3s 8ms/step - loss: 1.2843 - accuracy: 0.4959 - val_loss: 1.1830 - val_accuracy: 0.5358\n",
      "Epoch 8/100\n",
      "377/377 [==============================] - 3s 8ms/step - loss: 1.2479 - accuracy: 0.5067 - val_loss: 1.1641 - val_accuracy: 0.5405\n",
      "Epoch 9/100\n",
      "377/377 [==============================] - 3s 8ms/step - loss: 1.2041 - accuracy: 0.5235 - val_loss: 1.1556 - val_accuracy: 0.5484\n",
      "Epoch 10/100\n",
      "377/377 [==============================] - 3s 8ms/step - loss: 1.1791 - accuracy: 0.5480 - val_loss: 1.1430 - val_accuracy: 0.5584\n",
      "Epoch 11/100\n",
      "377/377 [==============================] - 3s 8ms/step - loss: 1.1372 - accuracy: 0.5485 - val_loss: 1.0692 - val_accuracy: 0.5690\n",
      "Epoch 12/100\n",
      "377/377 [==============================] - 3s 8ms/step - loss: 1.1121 - accuracy: 0.5536 - val_loss: 1.1000 - val_accuracy: 0.5763\n",
      "Epoch 13/100\n",
      "377/377 [==============================] - 3s 8ms/step - loss: 1.0878 - accuracy: 0.5748 - val_loss: 1.0227 - val_accuracy: 0.6015\n",
      "Epoch 14/100\n",
      "377/377 [==============================] - 3s 8ms/step - loss: 1.0515 - accuracy: 0.5930 - val_loss: 1.0241 - val_accuracy: 0.6061\n",
      "Epoch 15/100\n",
      "377/377 [==============================] - 3s 8ms/step - loss: 1.0192 - accuracy: 0.5933 - val_loss: 0.9853 - val_accuracy: 0.6280\n",
      "Epoch 16/100\n",
      "377/377 [==============================] - 3s 8ms/step - loss: 0.9672 - accuracy: 0.6296 - val_loss: 0.9074 - val_accuracy: 0.6505\n",
      "Epoch 17/100\n",
      "377/377 [==============================] - 3s 8ms/step - loss: 0.9617 - accuracy: 0.6319 - val_loss: 0.9819 - val_accuracy: 0.6194\n",
      "Epoch 18/100\n",
      "377/377 [==============================] - 3s 8ms/step - loss: 0.8900 - accuracy: 0.6722 - val_loss: 0.9959 - val_accuracy: 0.6101\n",
      "Epoch 19/100\n",
      "377/377 [==============================] - 3s 8ms/step - loss: 0.8853 - accuracy: 0.6560 - val_loss: 0.8640 - val_accuracy: 0.6605\n",
      "Epoch 20/100\n",
      "377/377 [==============================] - 3s 9ms/step - loss: 0.8648 - accuracy: 0.6658 - val_loss: 0.8463 - val_accuracy: 0.6830\n",
      "Epoch 21/100\n",
      "377/377 [==============================] - 3s 9ms/step - loss: 0.8198 - accuracy: 0.6973 - val_loss: 0.8086 - val_accuracy: 0.6943\n",
      "Epoch 22/100\n",
      "377/377 [==============================] - 4s 9ms/step - loss: 0.8128 - accuracy: 0.6858 - val_loss: 0.7610 - val_accuracy: 0.7115\n",
      "Epoch 23/100\n",
      "377/377 [==============================] - 3s 9ms/step - loss: 0.7627 - accuracy: 0.7065 - val_loss: 0.7032 - val_accuracy: 0.7347\n",
      "Epoch 24/100\n",
      "377/377 [==============================] - 3s 9ms/step - loss: 0.7328 - accuracy: 0.7156 - val_loss: 0.7146 - val_accuracy: 0.7215\n",
      "Epoch 25/100\n",
      "377/377 [==============================] - 3s 8ms/step - loss: 0.7133 - accuracy: 0.7270 - val_loss: 0.6408 - val_accuracy: 0.7626\n",
      "Epoch 26/100\n",
      "377/377 [==============================] - 3s 8ms/step - loss: 0.6772 - accuracy: 0.7436 - val_loss: 0.6908 - val_accuracy: 0.7533\n",
      "Epoch 27/100\n",
      "377/377 [==============================] - 3s 8ms/step - loss: 0.6563 - accuracy: 0.7566 - val_loss: 0.6401 - val_accuracy: 0.7739\n",
      "Epoch 28/100\n",
      "377/377 [==============================] - 3s 9ms/step - loss: 0.6283 - accuracy: 0.7724 - val_loss: 0.5998 - val_accuracy: 0.7858\n",
      "Epoch 29/100\n",
      "377/377 [==============================] - 3s 9ms/step - loss: 0.6030 - accuracy: 0.7742 - val_loss: 0.6025 - val_accuracy: 0.7712\n",
      "Epoch 30/100\n",
      "377/377 [==============================] - 3s 9ms/step - loss: 0.5650 - accuracy: 0.7882 - val_loss: 0.8370 - val_accuracy: 0.7175\n",
      "Epoch 31/100\n",
      "377/377 [==============================] - 3s 9ms/step - loss: 0.5707 - accuracy: 0.7927 - val_loss: 0.5929 - val_accuracy: 0.7832\n",
      "Epoch 32/100\n",
      "377/377 [==============================] - 3s 9ms/step - loss: 0.5474 - accuracy: 0.7928 - val_loss: 0.6347 - val_accuracy: 0.7745\n",
      "Epoch 33/100\n",
      "377/377 [==============================] - 4s 9ms/step - loss: 0.5551 - accuracy: 0.8018 - val_loss: 0.5162 - val_accuracy: 0.8031\n",
      "Epoch 34/100\n",
      "377/377 [==============================] - 3s 8ms/step - loss: 0.5165 - accuracy: 0.8188 - val_loss: 0.5272 - val_accuracy: 0.8156\n",
      "Epoch 35/100\n",
      "377/377 [==============================] - 3s 9ms/step - loss: 0.4765 - accuracy: 0.8281 - val_loss: 0.4280 - val_accuracy: 0.8435\n",
      "Epoch 36/100\n",
      "377/377 [==============================] - 3s 9ms/step - loss: 0.4759 - accuracy: 0.8336 - val_loss: 0.3769 - val_accuracy: 0.8641\n",
      "Epoch 37/100\n",
      "377/377 [==============================] - 3s 9ms/step - loss: 0.4726 - accuracy: 0.8388 - val_loss: 0.4211 - val_accuracy: 0.8534\n",
      "Epoch 38/100\n",
      "377/377 [==============================] - 3s 9ms/step - loss: 0.4658 - accuracy: 0.8336 - val_loss: 0.4608 - val_accuracy: 0.8408\n",
      "Epoch 39/100\n",
      "377/377 [==============================] - 4s 9ms/step - loss: 0.4299 - accuracy: 0.8504 - val_loss: 0.4170 - val_accuracy: 0.8554\n",
      "Epoch 40/100\n",
      "377/377 [==============================] - 3s 9ms/step - loss: 0.4377 - accuracy: 0.8521 - val_loss: 0.3641 - val_accuracy: 0.8813\n",
      "Epoch 41/100\n",
      "377/377 [==============================] - 3s 9ms/step - loss: 0.3952 - accuracy: 0.8575 - val_loss: 0.4295 - val_accuracy: 0.8521\n",
      "Epoch 42/100\n",
      "377/377 [==============================] - 3s 9ms/step - loss: 0.4073 - accuracy: 0.8601 - val_loss: 0.3084 - val_accuracy: 0.9019\n",
      "Epoch 43/100\n",
      "377/377 [==============================] - 3s 8ms/step - loss: 0.3636 - accuracy: 0.8767 - val_loss: 0.3277 - val_accuracy: 0.8979\n",
      "Epoch 44/100\n",
      "377/377 [==============================] - 3s 8ms/step - loss: 0.3628 - accuracy: 0.8720 - val_loss: 0.4134 - val_accuracy: 0.8621\n",
      "Epoch 45/100\n",
      "377/377 [==============================] - 3s 9ms/step - loss: 0.3757 - accuracy: 0.8679 - val_loss: 0.3376 - val_accuracy: 0.8786\n",
      "Epoch 46/100\n",
      "377/377 [==============================] - 3s 9ms/step - loss: 0.3666 - accuracy: 0.8762 - val_loss: 0.2975 - val_accuracy: 0.9078\n",
      "Epoch 47/100\n",
      "377/377 [==============================] - 3s 8ms/step - loss: 0.3244 - accuracy: 0.8923 - val_loss: 0.3365 - val_accuracy: 0.8747\n",
      "Epoch 48/100\n",
      "377/377 [==============================] - 3s 8ms/step - loss: 0.3559 - accuracy: 0.8873 - val_loss: 0.3240 - val_accuracy: 0.8866\n",
      "Epoch 49/100\n",
      "377/377 [==============================] - 3s 8ms/step - loss: 0.3375 - accuracy: 0.8888 - val_loss: 0.3735 - val_accuracy: 0.8680\n",
      "Epoch 50/100\n",
      "377/377 [==============================] - 3s 8ms/step - loss: 0.3150 - accuracy: 0.8884 - val_loss: 0.2180 - val_accuracy: 0.9271\n",
      "Epoch 51/100\n",
      "377/377 [==============================] - 3s 8ms/step - loss: 0.3239 - accuracy: 0.8878 - val_loss: 0.2553 - val_accuracy: 0.9271\n",
      "Epoch 52/100\n",
      "377/377 [==============================] - 3s 8ms/step - loss: 0.3056 - accuracy: 0.8993 - val_loss: 0.2585 - val_accuracy: 0.9244\n",
      "Epoch 53/100\n",
      "377/377 [==============================] - 3s 8ms/step - loss: 0.3182 - accuracy: 0.8984 - val_loss: 0.2206 - val_accuracy: 0.9337\n",
      "Epoch 54/100\n",
      "377/377 [==============================] - 3s 8ms/step - loss: 0.3225 - accuracy: 0.8935 - val_loss: 0.2253 - val_accuracy: 0.9277\n",
      "Epoch 55/100\n",
      "377/377 [==============================] - 3s 8ms/step - loss: 0.3047 - accuracy: 0.8997 - val_loss: 0.2245 - val_accuracy: 0.9251\n",
      "Epoch 56/100\n",
      "377/377 [==============================] - 3s 8ms/step - loss: 0.3154 - accuracy: 0.9013 - val_loss: 0.1947 - val_accuracy: 0.9483\n",
      "Epoch 57/100\n",
      "377/377 [==============================] - 3s 8ms/step - loss: 0.2662 - accuracy: 0.9140 - val_loss: 0.3382 - val_accuracy: 0.8979\n",
      "Epoch 58/100\n",
      "377/377 [==============================] - 3s 8ms/step - loss: 0.2996 - accuracy: 0.9006 - val_loss: 0.2404 - val_accuracy: 0.9403\n",
      "Epoch 59/100\n",
      "377/377 [==============================] - 3s 8ms/step - loss: 0.2907 - accuracy: 0.9069 - val_loss: 0.2561 - val_accuracy: 0.9164\n",
      "Epoch 60/100\n",
      "377/377 [==============================] - 3s 8ms/step - loss: 0.2825 - accuracy: 0.9084 - val_loss: 0.3083 - val_accuracy: 0.9145\n",
      "Epoch 61/100\n",
      "377/377 [==============================] - 3s 8ms/step - loss: 0.2525 - accuracy: 0.9214 - val_loss: 0.3197 - val_accuracy: 0.9111\n",
      "Epoch 62/100\n",
      "377/377 [==============================] - 3s 8ms/step - loss: 0.2527 - accuracy: 0.9201 - val_loss: 0.2858 - val_accuracy: 0.9164\n",
      "Epoch 63/100\n",
      "377/377 [==============================] - 3s 8ms/step - loss: 0.2873 - accuracy: 0.9090 - val_loss: 0.2787 - val_accuracy: 0.9178\n",
      "Epoch 64/100\n",
      "377/377 [==============================] - 3s 8ms/step - loss: 0.3412 - accuracy: 0.9036 - val_loss: 0.3576 - val_accuracy: 0.8873\n",
      "Epoch 65/100\n",
      "377/377 [==============================] - 3s 8ms/step - loss: 0.2820 - accuracy: 0.9123 - val_loss: 0.1591 - val_accuracy: 0.9622\n",
      "Epoch 66/100\n",
      "377/377 [==============================] - 3s 8ms/step - loss: 0.2567 - accuracy: 0.9138 - val_loss: 0.2449 - val_accuracy: 0.9403\n",
      "Epoch 67/100\n",
      "377/377 [==============================] - 3s 8ms/step - loss: 0.2302 - accuracy: 0.9312 - val_loss: 0.9810 - val_accuracy: 0.7454\n",
      "Epoch 68/100\n",
      "377/377 [==============================] - 3s 8ms/step - loss: 0.2499 - accuracy: 0.9206 - val_loss: 0.1765 - val_accuracy: 0.9536\n",
      "Epoch 69/100\n",
      "377/377 [==============================] - 3s 8ms/step - loss: 0.2535 - accuracy: 0.9215 - val_loss: 0.2239 - val_accuracy: 0.9304\n",
      "Epoch 70/100\n",
      "377/377 [==============================] - 3s 8ms/step - loss: 0.2553 - accuracy: 0.9226 - val_loss: 0.2196 - val_accuracy: 0.9383\n",
      "Epoch 71/100\n",
      "377/377 [==============================] - 3s 8ms/step - loss: 0.2378 - accuracy: 0.9303 - val_loss: 0.1457 - val_accuracy: 0.9622\n",
      "Epoch 72/100\n",
      "377/377 [==============================] - 3s 8ms/step - loss: 0.2608 - accuracy: 0.9302 - val_loss: 0.1441 - val_accuracy: 0.9635\n",
      "Epoch 73/100\n",
      "377/377 [==============================] - 3s 8ms/step - loss: 0.2356 - accuracy: 0.9286 - val_loss: 0.2165 - val_accuracy: 0.9436\n",
      "Epoch 74/100\n",
      "377/377 [==============================] - 3s 8ms/step - loss: 0.2171 - accuracy: 0.9328 - val_loss: 0.1869 - val_accuracy: 0.9450\n",
      "Epoch 75/100\n",
      "377/377 [==============================] - 3s 8ms/step - loss: 0.2121 - accuracy: 0.9372 - val_loss: 0.2427 - val_accuracy: 0.9576\n",
      "Epoch 76/100\n",
      "377/377 [==============================] - 3s 8ms/step - loss: 0.2617 - accuracy: 0.9221 - val_loss: 0.1943 - val_accuracy: 0.9496\n",
      "Epoch 77/100\n",
      "377/377 [==============================] - 3s 8ms/step - loss: 0.2106 - accuracy: 0.9363 - val_loss: 0.2020 - val_accuracy: 0.9496\n",
      "Epoch 78/100\n",
      "377/377 [==============================] - 3s 8ms/step - loss: 0.3271 - accuracy: 0.9098 - val_loss: 0.1539 - val_accuracy: 0.9642\n",
      "Epoch 79/100\n",
      "377/377 [==============================] - 3s 8ms/step - loss: 0.2224 - accuracy: 0.9319 - val_loss: 0.1832 - val_accuracy: 0.9629\n",
      "Epoch 80/100\n",
      "377/377 [==============================] - 3s 8ms/step - loss: 0.2120 - accuracy: 0.9376 - val_loss: 0.1835 - val_accuracy: 0.9503\n",
      "Epoch 81/100\n",
      "377/377 [==============================] - 3s 8ms/step - loss: 0.2326 - accuracy: 0.9370 - val_loss: 0.1420 - val_accuracy: 0.9668\n",
      "Epoch 82/100\n",
      "377/377 [==============================] - 3s 8ms/step - loss: 0.2360 - accuracy: 0.9329 - val_loss: 0.1833 - val_accuracy: 0.9503\n",
      "Epoch 83/100\n",
      "377/377 [==============================] - 3s 8ms/step - loss: 0.2263 - accuracy: 0.9395 - val_loss: 0.1739 - val_accuracy: 0.9569\n",
      "Epoch 84/100\n",
      "377/377 [==============================] - 3s 8ms/step - loss: 0.2290 - accuracy: 0.9352 - val_loss: 0.1474 - val_accuracy: 0.9642\n",
      "Epoch 85/100\n",
      "377/377 [==============================] - 3s 8ms/step - loss: 0.2257 - accuracy: 0.9352 - val_loss: 0.2391 - val_accuracy: 0.9363\n",
      "Epoch 86/100\n",
      "377/377 [==============================] - 3s 8ms/step - loss: 0.2368 - accuracy: 0.9314 - val_loss: 0.1802 - val_accuracy: 0.9516\n",
      "Epoch 87/100\n",
      "377/377 [==============================] - 3s 8ms/step - loss: 0.2833 - accuracy: 0.9279 - val_loss: 0.1306 - val_accuracy: 0.9629\n",
      "Epoch 88/100\n",
      "377/377 [==============================] - 3s 8ms/step - loss: 0.2279 - accuracy: 0.9379 - val_loss: 0.1950 - val_accuracy: 0.9622\n",
      "Epoch 89/100\n",
      "377/377 [==============================] - 3s 8ms/step - loss: 0.2684 - accuracy: 0.9277 - val_loss: 0.1715 - val_accuracy: 0.9582\n",
      "Epoch 90/100\n",
      "377/377 [==============================] - 3s 8ms/step - loss: 0.2171 - accuracy: 0.9417 - val_loss: 0.1868 - val_accuracy: 0.9397\n",
      "Epoch 91/100\n",
      "377/377 [==============================] - 3s 8ms/step - loss: 0.2215 - accuracy: 0.9372 - val_loss: 0.2034 - val_accuracy: 0.9476\n",
      "Epoch 92/100\n",
      "377/377 [==============================] - 3s 8ms/step - loss: 0.2553 - accuracy: 0.9309 - val_loss: 0.1719 - val_accuracy: 0.9569\n",
      "Epoch 93/100\n",
      "377/377 [==============================] - 3s 8ms/step - loss: 0.2269 - accuracy: 0.9407 - val_loss: 0.2672 - val_accuracy: 0.9390\n",
      "Epoch 94/100\n",
      "377/377 [==============================] - 3s 8ms/step - loss: 0.2755 - accuracy: 0.9243 - val_loss: 0.1929 - val_accuracy: 0.9655\n",
      "Epoch 95/100\n",
      "377/377 [==============================] - 3s 8ms/step - loss: 0.2083 - accuracy: 0.9453 - val_loss: 0.3317 - val_accuracy: 0.9098\n",
      "Epoch 96/100\n",
      "377/377 [==============================] - 3s 8ms/step - loss: 0.2761 - accuracy: 0.9216 - val_loss: 0.2290 - val_accuracy: 0.9390\n",
      "Epoch 97/100\n",
      "377/377 [==============================] - 3s 8ms/step - loss: 0.2415 - accuracy: 0.9289 - val_loss: 0.1800 - val_accuracy: 0.9662\n",
      "Epoch 98/100\n",
      "377/377 [==============================] - 3s 8ms/step - loss: 0.2259 - accuracy: 0.9360 - val_loss: 0.3032 - val_accuracy: 0.9224\n",
      "Epoch 99/100\n",
      "377/377 [==============================] - 3s 8ms/step - loss: 0.2626 - accuracy: 0.9327 - val_loss: 0.1491 - val_accuracy: 0.9649\n",
      "Epoch 100/100\n",
      "377/377 [==============================] - 3s 8ms/step - loss: 0.3268 - accuracy: 0.9223 - val_loss: 0.1090 - val_accuracy: 0.9721\n"
     ]
    }
   ],
   "source": [
    "# Training\n",
    "hist = model.fit(X_train, y_train, batch_size=16, epochs=100, verbose=1, validation_data=(X_test, y_test))\n",
    "#hist = model.fit(X_train, y_train, batch_size=32, nb_epoch=20,verbose=1, validation_split=0.2)#if not split previous"
   ]
  },
  {
   "cell_type": "code",
   "execution_count": 42,
   "id": "c00ad9f0-d105-463d-b861-93265c876e50",
   "metadata": {},
   "outputs": [
    {
     "data": {
      "image/png": "[encoded data removed]",
      "text/plain": [
       "<Figure size 504x360 with 1 Axes>"
      ]
     },
     "metadata": {
      "needs_background": "light"
     },
     "output_type": "display_data"
    },
    {
     "data": {
      "image/png": "[encoded data removed]",
      "text/plain": [
       "<Figure size 560x400 with 1 Axes>"
      ]
     },
     "metadata": {},
     "output_type": "display_data"
    }
   ],
   "source": [
    "# visualizing losses and accuracy\n",
    "train_loss=hist.history['loss']\n",
    "val_loss=hist.history['val_loss']\n",
    "train_acc=hist.history['accuracy']\n",
    "val_acc=hist.history['val_accuracy']\n",
    "xc=range(num_epoch)#if we dont use callback then uncomment unless run the next line\n",
    "#xc=range(1)\n",
    "\n",
    "plt.figure(1,figsize=(7,5))\n",
    "plt.plot(xc,train_loss)\n",
    "plt.plot(xc,val_loss)\n",
    "plt.xlabel('num of Epochs')\n",
    "plt.ylabel('loss')\n",
    "plt.title('train_loss vs val_loss')\n",
    "plt.grid(True)\n",
    "plt.legend(['train','val'])\n",
    "#print plt.style.available # use bmh, classic,ggplot for big pictures\n",
    "plt.style.use(['classic'])\n",
    "\n",
    "plt.figure(2,figsize=(7,5))\n",
    "plt.plot(xc,train_acc)\n",
    "plt.plot(xc,val_acc)\n",
    "plt.xlabel('num of Epochs')\n",
    "plt.ylabel('accuracy')\n",
    "plt.title('train_acc vs val_acc')\n",
    "plt.grid(True)\n",
    "plt.legend(['train','val'],loc=4)\n",
    "#print plt.style.available # use bmh, classic,ggplot for big pictures\n",
    "plt.style.use(['classic'])"
   ]
  },
  {
   "cell_type": "code",
   "execution_count": 43,
   "id": "c14533fb-aa5e-42d4-a9dc-575ddc7b7c58",
   "metadata": {},
   "outputs": [
    {
     "name": "stdout",
     "output_type": "stream",
     "text": [
      "Test Loss: 0.10901582986116409\n",
      "Test accuracy: 0.9721485376358032\n",
      "(1, 1, 128, 128)\n",
      "[[3.9131138e-24 3.4696885e-14 1.5833214e-10 3.1340181e-13 2.1199903e-15\n",
      "  1.0000000e+00 2.2873545e-16]]\n",
      "[5]\n",
      "[[0. 0. 0. 0. 0. 1. 0.]]\n"
     ]
    },
    {
     "name": "stderr",
     "output_type": "stream",
     "text": [
      "C:\\Users\\Legend\\anaconda3\\lib\\site-packages\\keras\\engine\\sequential.py:450: UserWarning: `model.predict_classes()` is deprecated and will be removed after 2021-01-01. Please use instead:* `np.argmax(model.predict(x), axis=-1)`,   if your model does multi-class classification   (e.g. if it uses a `softmax` last-layer activation).* `(model.predict(x) > 0.5).astype(\"int32\")`,   if your model does binary classification   (e.g. if it uses a `sigmoid` last-layer activation).\n",
      "  warnings.warn('`model.predict_classes()` is deprecated and '\n"
     ]
    }
   ],
   "source": [
    "# Evaluating the model\n",
    "\n",
    "score = model.evaluate(X_test, y_test, verbose=0)\n",
    "print('Test Loss:', score[0])\n",
    "print('Test accuracy:', score[1])\n",
    "\n",
    "test_image = X_test[0:1]\n",
    "print (test_image.shape)\n",
    "\n",
    "print(model.predict(test_image))\n",
    "print(model.predict_classes(test_image))\n",
    "print(y_test[0:1])"
   ]
  },
  {
   "cell_type": "code",
   "execution_count": 44,
   "id": "d2b532e3-fc39-45ed-828b-1d3c6ba38d6a",
   "metadata": {},
   "outputs": [
    {
     "name": "stdout",
     "output_type": "stream",
     "text": [
      "(128, 128)\n"
     ]
    }
   ],
   "source": [
    "# Testing a new image\n",
    "import cv2\n",
    "test_image = cv2.imread('E://zzzzdelete/CancerCNNLSTM/CancerCNN/data/class1/109.class1.jpg')\n",
    "test_image=cv2.cvtColor(test_image, cv2.COLOR_BGR2GRAY)\n",
    "test_image=cv2.resize(test_image,(128,128))\n",
    "test_image = np.array(test_image)\n",
    "test_image = test_image.astype('float32')\n",
    "test_image /= 255\n",
    "print (test_image.shape)"
   ]
  },
  {
   "cell_type": "code",
   "execution_count": 45,
   "id": "25ba77ac-3a08-4159-8d5a-84d2ba4514e6",
   "metadata": {},
   "outputs": [
    {
     "name": "stdout",
     "output_type": "stream",
     "text": [
      "(1, 1, 128, 128)\n"
     ]
    }
   ],
   "source": [
    "if num_channel==1:\n",
    "\tif K.image_data_format()=='th':\n",
    "\t\ttest_image= np.expand_dims(test_image, axis=0)\n",
    "\t\ttest_image= np.expand_dims(test_image, axis=0)\n",
    "\t\tprint (test_image.shape)\n",
    "\telse:\n",
    "\t\ttest_image= np.expand_dims(test_image, axis=0) \n",
    "\t\ttest_image= np.expand_dims(test_image, axis=0)\n",
    "\t\tprint (test_image.shape)\n",
    "\t\t\n",
    "else:\n",
    "\tif K.image_data_format()=='th':\n",
    "\t\ttest_image=np.rollaxis(test_image,2,0)\n",
    "\t\ttest_image= np.expand_dims(test_image, axis=0)\n",
    "\t\tprint (test_image.shape)\n",
    "\telse:\n",
    "\t\ttest_image= np.expand_dims(test_image, axis=0)\n",
    "\t\tprint (test_image.shape)\n",
    "\t\t"
   ]
  },
  {
   "cell_type": "code",
   "execution_count": 46,
   "id": "a33c7b30-4545-4b22-91ce-b38c64f7a5f4",
   "metadata": {},
   "outputs": [
    {
     "name": "stdout",
     "output_type": "stream",
     "text": [
      "(1, 1, 128, 128)\n"
     ]
    }
   ],
   "source": [
    "print(test_image.shape)"
   ]
  },
  {
   "cell_type": "code",
   "execution_count": 47,
   "id": "93fc2767-dde8-4188-9e2c-b8c98604c1f2",
   "metadata": {},
   "outputs": [],
   "source": [
    "test_image=test_image.reshape(1,1, 128, 128)"
   ]
  },
  {
   "cell_type": "code",
   "execution_count": 48,
   "id": "34a1d271-1414-4122-b281-923cae4422b7",
   "metadata": {},
   "outputs": [
    {
     "name": "stdout",
     "output_type": "stream",
     "text": [
      "[[1. 0. 0. 0. 0. 0. 0.]]\n",
      "class\n",
      "[0]\n"
     ]
    }
   ],
   "source": [
    "# Predicting the test image\n",
    "print((model.predict(test_image)))\n",
    "print('class')\n",
    "print(model.predict_classes(test_image))"
   ]
  },
  {
   "cell_type": "code",
   "execution_count": 49,
   "id": "ba43bfb8-c02a-4a2d-905a-70b082c41ea3",
   "metadata": {},
   "outputs": [
    {
     "name": "stdout",
     "output_type": "stream",
     "text": [
      "(128, 128)\n"
     ]
    }
   ],
   "source": [
    "# Testing a new image\n",
    "import cv2\n",
    "test_image = cv2.imread('E://zzzzdelete/CancerCNNLSTM/CancerCNN/data/class4/3499.class4.jpg')\n",
    "test_image=cv2.cvtColor(test_image, cv2.COLOR_BGR2GRAY)\n",
    "test_image=cv2.resize(test_image,(128,128))\n",
    "test_image = np.array(test_image)\n",
    "test_image = test_image.astype('float32')\n",
    "test_image /= 255\n",
    "print (test_image.shape)"
   ]
  },
  {
   "cell_type": "code",
   "execution_count": 50,
   "id": "34567ff8-25fc-45e6-8f6a-b4ff556928b1",
   "metadata": {},
   "outputs": [
    {
     "name": "stdout",
     "output_type": "stream",
     "text": [
      "(1, 1, 128, 128)\n"
     ]
    }
   ],
   "source": [
    "if num_channel==1:\n",
    "\tif K.image_data_format()=='th':\n",
    "\t\ttest_image= np.expand_dims(test_image, axis=0)\n",
    "\t\ttest_image= np.expand_dims(test_image, axis=0)\n",
    "\t\tprint (test_image.shape)\n",
    "\telse:\n",
    "\t\ttest_image= np.expand_dims(test_image, axis=0) \n",
    "\t\ttest_image= np.expand_dims(test_image, axis=0)\n",
    "\t\tprint (test_image.shape)\n",
    "\t\t\n",
    "else:\n",
    "\tif K.image_data_format()=='th':\n",
    "\t\ttest_image=np.rollaxis(test_image,2,0)\n",
    "\t\ttest_image= np.expand_dims(test_image, axis=0)\n",
    "\t\tprint (test_image.shape)\n",
    "\telse:\n",
    "\t\ttest_image= np.expand_dims(test_image, axis=0)\n",
    "\t\tprint (test_image.shape)\n",
    "\t\t"
   ]
  },
  {
   "cell_type": "code",
   "execution_count": 51,
   "id": "860a8a0b-ca54-4234-b9aa-50a9b780b83e",
   "metadata": {},
   "outputs": [],
   "source": [
    "test_image=test_image.reshape(1,1, 128, 128)"
   ]
  },
  {
   "cell_type": "code",
   "execution_count": 52,
   "id": "d78c82a8-d718-4e42-b893-0a505d97874f",
   "metadata": {},
   "outputs": [
    {
     "name": "stdout",
     "output_type": "stream",
     "text": [
      "[[1.3808045e-07 4.2526895e-04 1.8994898e-02 6.8146223e-01 2.2150239e-01\n",
      "  2.6523415e-02 5.1091585e-02]]\n",
      "class\n",
      "[3]\n"
     ]
    }
   ],
   "source": [
    "# Predicting the test image\n",
    "print((model.predict(test_image)))\n",
    "print('class')\n",
    "print(model.predict_classes(test_image))"
   ]
  },
  {
   "cell_type": "code",
   "execution_count": 53,
   "id": "8bc904f1-9596-40a0-af59-d018d8af80db",
   "metadata": {},
   "outputs": [],
   "source": [
    "layer_num=3\n",
    "filter_num=0"
   ]
  },
  {
   "cell_type": "code",
   "execution_count": null,
   "id": "72e3f108-5f24-457f-a5f4-16daad06414d",
   "metadata": {},
   "outputs": [],
   "source": []
  },
  {
   "cell_type": "code",
   "execution_count": 54,
   "id": "4a0ab795-37e8-41bb-b31b-29fc57cf7aa1",
   "metadata": {},
   "outputs": [],
   "source": [
    "#tf.compat.v1.disable_eager_execution()"
   ]
  },
  {
   "cell_type": "code",
   "execution_count": 55,
   "id": "81aa4d53-aa35-46b7-bf2a-34e9dbd868bd",
   "metadata": {},
   "outputs": [],
   "source": [
    "from sklearn.metrics import classification_report,confusion_matrix\n",
    "import itertools"
   ]
  },
  {
   "cell_type": "code",
   "execution_count": 56,
   "id": "f9d67857-8152-4405-91a2-6a4912f3439e",
   "metadata": {},
   "outputs": [
    {
     "name": "stdout",
     "output_type": "stream",
     "text": [
      "[[3.8700774e-24 3.4381592e-14 1.5720611e-10 ... 2.0977148e-15\n",
      "  1.0000000e+00 2.2699437e-16]\n",
      " [2.9456635e-14 1.6508903e-10 2.1265906e-08 ... 9.9999988e-01\n",
      "  7.4246827e-08 4.5333585e-15]\n",
      " [3.8267280e-12 1.6448346e-09 3.1590584e-08 ... 1.0000000e+00\n",
      "  5.1599676e-11 7.4753788e-17]\n",
      " ...\n",
      " [3.3370691e-12 2.7143009e-05 9.9991214e-01 ... 1.8663595e-06\n",
      "  1.2680470e-08 3.4068406e-09]\n",
      " [2.2880811e-21 3.7955912e-13 4.7239155e-09 ... 5.5076098e-15\n",
      "  9.9999976e-01 6.9895656e-10]\n",
      " [1.0000000e+00 2.7160690e-11 3.8543534e-26 ... 4.6819589e-22\n",
      "  4.1898985e-26 0.0000000e+00]]\n",
      "[5 4 4 ... 2 5 0]\n"
     ]
    }
   ],
   "source": [
    "Y_pred = model.predict(X_test)\n",
    "print(Y_pred)\n",
    "y_pred = np.argmax(Y_pred, axis=1)\n",
    "print(y_pred)"
   ]
  },
  {
   "cell_type": "code",
   "execution_count": 57,
   "id": "a26b6ec4-a069-45ea-91ff-b1cc2631021a",
   "metadata": {},
   "outputs": [],
   "source": [
    "# Visualizing the intermediate layer\n",
    "#to get the intermediate activation function\n",
    "from tensorflow.python.keras.backend import eager_learning_phase_scope\n",
    "from tensorflow.python.keras.backend  import symbolic_learning_phase\n",
    "def get_featuremaps(model, layer_idx, X_batch):\n",
    "\tget_activations = K.function([model.layers[0].input, K.learning_phase()],[model.layers[layer_idx].output,])\n",
    "\tactivations = get_activations([X_batch,0])\n",
    "\treturn activations"
   ]
  },
  {
   "cell_type": "code",
   "execution_count": 58,
   "id": "583bd223-ac77-4c74-830d-75f0636351ae",
   "metadata": {},
   "outputs": [],
   "source": [
    "\n",
    "\n",
    "#f = K.function([model.layers[0].input],      \n",
    "                              #[model.output])\n",
    "\n",
    "# Run the function for the number of mc_samples with learning_phase enabled\n",
    "#with eager_learning_phase_scope(value=1): # 0=test, 1=train\n",
    "     #Yt_hat = np.array([f((X))[0] for _ in range(1)])"
   ]
  },
  {
   "cell_type": "code",
   "execution_count": 59,
   "id": "27ea3692-58b9-4846-a403-1a5e416207ac",
   "metadata": {},
   "outputs": [],
   "source": [
    "layer_num=3\n",
    "filter_num=0"
   ]
  },
  {
   "cell_type": "code",
   "execution_count": 60,
   "id": "d8b82052-aacf-4820-9886-1a7f0bd09754",
   "metadata": {},
   "outputs": [],
   "source": [
    "# Printing the confusion matrix\n",
    "from sklearn.metrics import classification_report,confusion_matrix\n",
    "import itertools"
   ]
  },
  {
   "cell_type": "code",
   "execution_count": 61,
   "id": "407f4cea-e0bb-4cb3-9a51-8a72c59d2d17",
   "metadata": {},
   "outputs": [],
   "source": [
    "target_names = ['class1','class2','class3','class4','class5','class6','class7']"
   ]
  },
  {
   "cell_type": "code",
   "execution_count": 62,
   "id": "b4093c9d-7969-4998-8742-da624acd3fbc",
   "metadata": {},
   "outputs": [
    {
     "name": "stdout",
     "output_type": "stream",
     "text": [
      "              precision    recall  f1-score   support\n",
      "\n",
      "      class1       1.00      1.00      1.00       190\n",
      "      class2       0.95      0.98      0.96       241\n",
      "      class3       0.97      0.99      0.98       256\n",
      "      class4       0.96      1.00      0.98       161\n",
      "      class5       0.96      0.95      0.95       270\n",
      "      class6       1.00      0.93      0.96       245\n",
      "      class7       0.97      0.99      0.98       145\n",
      "\n",
      "    accuracy                           0.97      1508\n",
      "   macro avg       0.97      0.98      0.97      1508\n",
      "weighted avg       0.97      0.97      0.97      1508\n",
      "\n",
      "[[190   0   0   0   0   0   0]\n",
      " [  0 235   0   0   6   0   0]\n",
      " [  0   3 253   0   0   0   0]\n",
      " [  0   0   0 161   0   0   0]\n",
      " [  0   5   4   3 256   0   2]\n",
      " [  0   4   3   2   6 228   2]\n",
      " [  0   0   0   2   0   0 143]]\n"
     ]
    }
   ],
   "source": [
    "print(classification_report(np.argmax(y_test,axis=1), y_pred,target_names=target_names))\n",
    "\n",
    "print(confusion_matrix(np.argmax(y_test,axis=1), y_pred))"
   ]
  },
  {
   "cell_type": "code",
   "execution_count": 63,
   "id": "372a1433-c928-4ade-8793-94142a22da0d",
   "metadata": {},
   "outputs": [
    {
     "name": "stdout",
     "output_type": "stream",
     "text": [
      "Confusion matrix, without normalization\n",
      "[[190   0   0   0   0   0   0]\n",
      " [  0 235   0   0   6   0   0]\n",
      " [  0   3 253   0   0   0   0]\n",
      " [  0   0   0 161   0   0   0]\n",
      " [  0   5   4   3 256   0   2]\n",
      " [  0   4   3   2   6 228   2]\n",
      " [  0   0   0   2   0   0 143]]\n"
     ]
    },
    {
     "data": {
      "image/png": "[encoded data removed]",
      "text/plain": [
       "<Figure size 640x480 with 2 Axes>"
      ]
     },
     "metadata": {},
     "output_type": "display_data"
    }
   ],
   "source": [
    "# Plotting the confusion matrix\n",
    "def plot_confusion_matrix(cm, classes,\n",
    "                          normalize=False,\n",
    "                          title='Confusion matrix',\n",
    "                          cmap=plt.cm.Blues):\n",
    "    \"\"\"\n",
    "    This function prints and plots the confusion matrix.\n",
    "    Normalization can be applied by setting `normalize=True`.\n",
    "    \"\"\"\n",
    "    plt.imshow(cm, interpolation='nearest', cmap=cmap)\n",
    "    plt.title(title)\n",
    "    plt.colorbar()\n",
    "    tick_marks = np.arange(len(classes))\n",
    "    plt.xticks(tick_marks, classes, rotation=45)\n",
    "    plt.yticks(tick_marks, classes)\n",
    "\n",
    "    if normalize:\n",
    "        cm = cm.astype('float') / cm.sum(axis=1)[:, np.newaxis]\n",
    "        print(\"Normalized confusion matrix\")\n",
    "    else:\n",
    "        print('Confusion matrix, without normalization')\n",
    "\n",
    "    print(cm)\n",
    "\n",
    "    thresh = cm.max() / 2.\n",
    "    for i, j in itertools.product(range(cm.shape[0]), range(cm.shape[1])):\n",
    "        plt.text(j, i, cm[i, j],\n",
    "                 horizontalalignment=\"center\",\n",
    "                 color=\"white\" if cm[i, j] > thresh else \"black\")\n",
    "\n",
    "    plt.tight_layout()\n",
    "    plt.ylabel('True label')\n",
    "    plt.xlabel('Predicted label')\n",
    "\n",
    "# Compute confusion matrix\n",
    "cnf_matrix = (confusion_matrix(np.argmax(y_test,axis=1), y_pred))\n",
    "\n",
    "np.set_printoptions(precision=2)\n",
    "\n",
    "plt.figure()\n",
    "\n",
    "# Plot non-normalized confusion matrix\n",
    "plot_confusion_matrix(cnf_matrix, classes=target_names,\n",
    "                      title='Confusion matrix')\n",
    "#plt.figure()\n",
    "# Plot normalized confusion matrix\n",
    "#plot_confusion_matrix(cnf_matrix, classes=target_names, normalize=True,\n",
    "#                      title='Normalized confusion matrix')\n",
    "#plt.figure()\n",
    "plt.show()\n"
   ]
  },
  {
   "cell_type": "code",
   "execution_count": null,
   "id": "f452bb4c-d97c-41c4-a168-4eec975d7c9d",
   "metadata": {},
   "outputs": [],
   "source": []
  },
  {
   "cell_type": "code",
   "execution_count": null,
   "id": "9e76cbb0-17e5-400d-b2ae-46de93c54dc0",
   "metadata": {},
   "outputs": [],
   "source": []
  }
 ],
 "metadata": {
  "kernelspec": {
   "display_name": "Python 3",
   "language": "python",
   "name": "python3"
  },
  "language_info": {
   "codemirror_mode": {
    "name": "ipython",
    "version": 3
   },
   "file_extension": ".py",
   "mimetype": "text/x-python",
   "name": "python",
   "nbconvert_exporter": "python",
   "pygments_lexer": "ipython3",
   "version": "3.8.8"
  }
 },
 "nbformat": 4,
 "nbformat_minor": 5
}
